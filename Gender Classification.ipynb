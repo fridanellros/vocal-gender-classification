{
 "cells": [
  {
   "cell_type": "markdown",
   "metadata": {},
   "source": [
    "# Gender Classificaton\n"
   ]
  },
  {
   "cell_type": "markdown",
   "metadata": {},
   "source": [
    "## Imports"
   ]
  },
  {
   "cell_type": "code",
   "execution_count": 40,
   "metadata": {},
   "outputs": [],
   "source": [
    "import os\n",
    "import sys\n",
    "from scrape import get_remote_tgz_files, download_extract_files\n",
    "from parse import paths, parse_readme\n",
    "from pathlib import Path\n",
    "import sqlite3\n",
    "import librosa\n",
    "import librosa.display\n",
    "import IPython.display\n",
    "import numpy"
   ]
  },
  {
   "cell_type": "markdown",
   "metadata": {},
   "source": [
    "## Input variables"
   ]
  },
  {
   "cell_type": "code",
   "execution_count": 4,
   "metadata": {},
   "outputs": [],
   "source": [
    "SOURCE_URL = '''http://www.repository.voxforge1.org/downloads/SpeechCorpus/Trunk/Audio/Main/16kHz_16bit/'''\n",
    "DATA_DIR = '''data'''\n",
    "DB = '''genderclass.db'''"
   ]
  },
  {
   "cell_type": "markdown",
   "metadata": {},
   "source": [
    "## Scrape data\n",
    "Only files not already downloaded and extracted will be fetched."
   ]
  },
  {
   "cell_type": "code",
   "execution_count": 3,
   "metadata": {},
   "outputs": [],
   "source": [
    "data_folder = Path(DATA_DIR)\n",
    "urls = get_remote_tgz_files(SOURCE_URL)\n",
    "download_extract_files(urls, data_folder)"
   ]
  },
  {
   "cell_type": "markdown",
   "metadata": {},
   "source": [
    "## Create DB to hold features"
   ]
  },
  {
   "cell_type": "code",
   "execution_count": null,
   "metadata": {},
   "outputs": [],
   "source": [
    "conn = sqlite3.connect(DB)\n",
    "db = conn.cursor()\n",
    "db.execute('''DROP TABLE IF EXISTS features''')\n",
    "db.execute('''CREATE TABLE features\n",
    "         (file text unique, path text, female integer, \n",
    "            age text, language text, dialect text)''')\n",
    "conn.commit()\n",
    "conn.close()"
   ]
  },
  {
   "cell_type": "markdown",
   "metadata": {},
   "source": [
    "## Extract features\n",
    "Silence trimmed at beginning and end of each file.\n",
    "\n",
    "MFCC extracted (with default librosa settings).\n",
    "\n",
    "Save into database."
   ]
  },
  {
   "cell_type": "code",
   "execution_count": 42,
   "metadata": {},
   "outputs": [
    {
     "name": "stdout",
     "output_type": "stream",
     "text": [
      "['b0483.wav', 'b0487.wav', 'b0490.wav', 'b0489.wav', 'b0485.wav', 'b0491.wav', 'b0486.wav', 'b0488.wav', 'b0482.wav', 'b0484.wav']\n",
      "(20, 176)\n",
      "(20, 286)\n",
      "(20, 137)\n",
      "(20, 235)\n",
      "(20, 180)\n",
      "(20, 172)\n",
      "(20, 208)\n",
      "(20, 141)\n",
      "(20, 293)\n",
      "(20, 227)\n"
     ]
    },
    {
     "data": {
      "text/plain": [
       "<matplotlib.axes._subplots.AxesSubplot at 0x7f6254da4a20>"
      ]
     },
     "execution_count": 42,
     "metadata": {},
     "output_type": "execute_result"
    },
    {
     "data": {
      "image/png": "[encoded data removed]",
      "text/plain": [
       "<Figure size 432x288 with 1 Axes>"
      ]
     },
     "metadata": {
      "needs_background": "light"
     },
     "output_type": "display_data"
    }
   ],
   "source": [
    "data_folder = Path(DATA_DIR)\n",
    "conn = sqlite3.connect(DB)\n",
    "db = conn.cursor()\n",
    "samples = os.listdir(data_folder)\n",
    "\n",
    "for sample in samples:\n",
    "    (wav_folder, readme_path) = paths(data_folder, sample)\n",
    "    meta = parse_readme(readme_path)\n",
    "    \n",
    "    wavs = os.listdir(wav_folder)\n",
    "    print(wavs)\n",
    "    for wav in wavs:\n",
    "        y, fs = librosa.load(wav_folder / wav, sr=None)\n",
    "        y, idx = librosa.effects.trim(y)\n",
    "        mfcc = librosa.feature.mfcc(y, fs)\n",
    "        \n",
    "        db.execute('''INSERT INTO features VALUES\n",
    "         (?,?,?,?,?,?)''', \n",
    "            (wav[:-4], \n",
    "            str(wav_folder), \n",
    "            meta['Gender'] == 'Female', \n",
    "            meta['Age Range'], \n",
    "            meta['Language'], \n",
    "            meta['Pronunciation dialect']))\n",
    "\n",
    "    #db.execute('''SELECT file, female, age, language, dialect FROM features''')\n",
    "    #print(db.fetchall())\n",
    "    break\n",
    "\n",
    "conn.commit()\n",
    "conn.close()"
   ]
  },
  {
   "cell_type": "code",
   "execution_count": 44,
   "metadata": {},
   "outputs": [
    {
     "data": {
      "text/plain": [
       "<matplotlib.axes._subplots.AxesSubplot at 0x7f6254dd7ac8>"
      ]
     },
     "execution_count": 44,
     "metadata": {},
     "output_type": "execute_result"
    },
    {
     "data": {
      "image/png": "[encoded data removed]",
      "text/plain": [
       "<Figure size 432x288 with 1 Axes>"
      ]
     },
     "metadata": {
      "needs_background": "light"
     },
     "output_type": "display_data"
    }
   ],
   "source": [
    "## Possibly rewisit narrower frames:\n",
    "spec = librosa.feature.melspectrogram(y=y, sr=fs, S=None, n_fft=400, hop_length=160, power=2.0)\n",
    "mfcc1 = librosa.feature.mfcc(y, fs, S=numpy.log(spec))\n",
    "\n",
    "librosa.display.specshow(mfcc1, sr=fs, x_axis='time', hop_length=160)\n",
    "librosa.display.specshow(mfcc2, sr=fs, x_axis='time')\n",
    "\n",
    "#IPython.display.Audio(y, rate=fs)"
   ]
  }
 ],
 "metadata": {
  "kernelspec": {
   "display_name": "Python 3",
   "language": "python",
   "name": "python3"
  },
  "language_info": {
   "codemirror_mode": {
    "name": "ipython",
    "version": 3
   },
   "file_extension": ".py",
   "mimetype": "text/x-python",
   "name": "python",
   "nbconvert_exporter": "python",
   "pygments_lexer": "ipython3",
   "version": "3.6.7"
  }
 },
 "nbformat": 4,
 "nbformat_minor": 2
}
