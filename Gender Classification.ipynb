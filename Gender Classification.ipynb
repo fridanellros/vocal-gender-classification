{
 "cells": [
  {
   "cell_type": "markdown",
   "metadata": {},
   "source": [
    "# Gender Classificaton\n"
   ]
  },
  {
   "cell_type": "markdown",
   "metadata": {},
   "source": [
    "## Imports"
   ]
  },
  {
   "cell_type": "code",
   "execution_count": 1,
   "metadata": {},
   "outputs": [],
   "source": [
    "import os\n",
    "import sys\n",
    "from scrape import get_remote_tgz_files, download_extract_files\n",
    "from parse import paths, parse_readme\n",
    "from pathlib import Path\n",
    "import sqlite3\n",
    "import librosa\n",
    "import librosa.display\n",
    "import IPython.display\n",
    "import numpy"
   ]
  },
  {
   "cell_type": "markdown",
   "metadata": {},
   "source": [
    "## Input variables"
   ]
  },
  {
   "cell_type": "code",
   "execution_count": 2,
   "metadata": {},
   "outputs": [],
   "source": [
    "SOURCE_URL = '''http://www.repository.voxforge1.org/downloads/SpeechCorpus/Trunk/Audio/Main/16kHz_16bit/'''\n",
    "DATA_DIR = '''data'''\n",
    "DB = '''genderclass.db'''"
   ]
  },
  {
   "cell_type": "markdown",
   "metadata": {},
   "source": [
    "## Scrape data\n",
    "Only files not already downloaded and extracted will be fetched."
   ]
  },
  {
   "cell_type": "code",
   "execution_count": 3,
   "metadata": {},
   "outputs": [],
   "source": [
    "data_folder = Path(DATA_DIR)\n",
    "urls = get_remote_tgz_files(SOURCE_URL)\n",
    "download_extract_files(urls, data_folder)"
   ]
  },
  {
   "cell_type": "markdown",
   "metadata": {},
   "source": [
    "## Create DB to hold features"
   ]
  },
  {
   "cell_type": "code",
   "execution_count": 3,
   "metadata": {},
   "outputs": [],
   "source": [
    "conn = sqlite3.connect(DB)\n",
    "db = conn.cursor()\n",
    "db.execute('''DROP TABLE IF EXISTS features''')\n",
    "db.execute('''CREATE TABLE features\n",
    "                     (file text, \n",
    "                      path text, \n",
    "                      female integer, \n",
    "                      age text, \n",
    "                      language text, \n",
    "                      dialect text,\n",
    "                      cepstrum blob,\n",
    "                      n_mfcc integer,\n",
    "                      n_frames integer)''')\n",
    "conn.commit()\n",
    "conn.close()"
   ]
  },
  {
   "cell_type": "markdown",
   "metadata": {},
   "source": [
    "## Extract features\n",
    "Silence trimmed at beginning and end of each file.\n",
    "\n",
    "MFCC extracted (with default librosa settings).\n",
    "\n",
    "Save into database."
   ]
  },
  {
   "cell_type": "code",
   "execution_count": 4,
   "metadata": {},
   "outputs": [
    {
     "name": "stdout",
     "output_type": "stream",
     "text": [
      "2019-03-24 21:42:56.189052\n",
      "data/anonymous-20090709-jol/wav\n",
      "data/kenanbit-20130805-onq/wav\n",
      "data/Nikro-20130520-uks/wav\n",
      "data/anonymous-20110215-eqq/wav\n",
      "data/aiden11-20111102-rvp/wav\n",
      "data/anonymous-20120925-ylv/wav\n",
      "data/rocketman768-20080409-oip/wav\n",
      "data/Chrisdan-20081210-yzd/wav\n",
      "data/B-20091230-umt/wav\n",
      "data/anonymous-20120719-uja/wav\n",
      "data/anonymous-20090404-lxa/wav\n",
      "data/bennmann-20091102-ksm/wav\n",
      "data/anonymous-20130219-ssc/wav\n",
      "data/anonymous-20121113-hah/wav\n",
      "data/benob-20090314-wzw/wav\n",
      "data/alec-20090912-aws/wav\n",
      "data/anonymous-20100320-pvf/wav\n",
      "data/brad-20100823-tki/wav\n",
      "data/azmisov-20140428-cyp/wav\n",
      "data/anonymous-20130411-mdo/wav\n",
      "data/mramige-20100820-zpz/wav\n",
      "data/chrisspen-20120505-efq/wav\n",
      "data/pcsnpny-20150303-lih/wav\n",
      "data/ttm-20071016/wav\n",
      "data/laserbeams-20081202-knp/wav\n",
      "data/trimbak-20100315-icl/wav\n",
      "data/JohanLingen-20080304-wfq/wav\n",
      "data/paddy-20080911-fdo/wav\n",
      "data/anonymous-20130708-vtm/wav\n",
      "data/Catbells-20110527-zjd/wav\n",
      "data/oeginc-20080228-ezk/wav\n",
      "data/anonymous-20081225-afe/wav\n",
      "data/wegoright-20120303-kwy/wav\n",
      "data/tester1001-20130113-fzx/wav\n",
      "data/anonymous-20091019-nlw/wav\n",
      "data/Thiago-20100922-qdu/wav\n",
      "data/anonymous-20100629-cxt/wav\n",
      "data/oeginc-20080224-oao/wav\n",
      "data/farmerjack-20080828-ste/wav\n",
      "data/anonymous-20110614-fee/wav\n",
      "data/farmerjack-20080827-ycq/wav\n",
      "data/volkerbradley-20121230-pwh/wav\n",
      "data/anonymous-20100202-eia/wav\n",
      "data/Blackdrive-20080605-vwx/wav\n",
      "data/anonymous-20161221-iei/wav\n",
      "data/anonymous-20090121-cyt/wav\n",
      "data/anonymous-20080320-lpb/wav\n",
      "data/anonymous-20080407-gfc/wav\n",
      "data/anonymous-20160104-bhb/wav\n",
      "data/anonymous-20110219-seg/wav\n",
      "data/almotter-20110721-yaa/wav\n",
      "data/anonymous-20110510-eka/wav\n",
      "data/eboyjr-20090725-fov/wav\n",
      "data/camdixon-20130819-uex/wav\n",
      "data/jeremybub-20081021-xbn/wav\n",
      "data/tomhannen-20080411-qvl/wav\n",
      "data/HansTheil-20111211-lth/wav\n",
      "data/joel-20091116-ehr/wav\n",
      "data/David-20140127-ifv/wav\n",
      "data/rortiz-20151013-iwe/wav\n",
      "data/anonymous-20110310-itc/wav\n",
      "data/gaidheal-20110521-asq/wav\n",
      "data/camdixon-20130819-owy/wav\n",
      "data/wicke-20090314-wup/wav\n",
      "data/teeks99-20090430-zjo/wav\n",
      "data/anonymous-20120415-nds/wav\n",
      "data/anonymous-20080921-sau/wav\n",
      "data/Krellis-20090609-nha/wav\n",
      "data/anonymous-20090220-tna/wav\n",
      "data/anonymous-20080227-twp/wav\n",
      "data/bonzer-20090919-ztf/wav\n",
      "data/ridgey-20080620-zrx/wav\n",
      "data/anonymous-20111015-obr/wav\n",
      "data/anonymous-20120419-say/wav\n",
      "data/rortiz-20160226-nlh/wav\n",
      "data/anonymous-20120121-qjw/wav\n",
      "data/Q-20150514-ero/wav\n",
      "data/Dcoetzee-20110429-vmo/wav\n",
      "data/anonymous-20160413-xbh/wav\n",
      "data/Tim-20090509-bke/wav\n",
      "data/rjmunro-20090210-vch/wav\n"
     ]
    },
    {
     "ename": "KeyboardInterrupt",
     "evalue": "",
     "output_type": "error",
     "traceback": [
      "\u001b[0;31m---------------------------------------------------------------------------\u001b[0m",
      "\u001b[0;31mKeyboardInterrupt\u001b[0m                         Traceback (most recent call last)",
      "\u001b[0;32m<ipython-input-4-28553f99d6d1>\u001b[0m in \u001b[0;36m<module>\u001b[0;34m\u001b[0m\n\u001b[1;32m     31\u001b[0m \u001b[0;34m\u001b[0m\u001b[0m\n\u001b[1;32m     32\u001b[0m         \u001b[0;31m#break\u001b[0m\u001b[0;34m\u001b[0m\u001b[0;34m\u001b[0m\u001b[0;34m\u001b[0m\u001b[0m\n\u001b[0;32m---> 33\u001b[0;31m     \u001b[0mconn\u001b[0m\u001b[0;34m.\u001b[0m\u001b[0mcommit\u001b[0m\u001b[0;34m(\u001b[0m\u001b[0;34m)\u001b[0m\u001b[0;34m\u001b[0m\u001b[0;34m\u001b[0m\u001b[0m\n\u001b[0m\u001b[1;32m     34\u001b[0m \u001b[0;34m\u001b[0m\u001b[0m\n\u001b[1;32m     35\u001b[0m     \u001b[0;31m#db.execute('''SELECT * FROM features''')\u001b[0m\u001b[0;34m\u001b[0m\u001b[0;34m\u001b[0m\u001b[0;34m\u001b[0m\u001b[0m\n",
      "\u001b[0;31mKeyboardInterrupt\u001b[0m: "
     ]
    }
   ],
   "source": [
    "import datetime\n",
    "print(datetime.datetime.now())\n",
    "\n",
    "data_folder = Path(DATA_DIR)\n",
    "conn = sqlite3.connect(DB)\n",
    "db = conn.cursor()\n",
    "samples = os.listdir(data_folder)\n",
    "\n",
    "for sample in samples:\n",
    "    (wav_folder, readme_path) = paths(data_folder, sample)\n",
    "    meta = parse_readme(readme_path)\n",
    "    \n",
    "    wavs = os.listdir(wav_folder)\n",
    "    #print(wav_folder)\n",
    "    for wav in wavs:\n",
    "        y, fs = librosa.load(wav_folder / wav, sr=None)\n",
    "        y, idx = librosa.effects.trim(y)\n",
    "        mfcc = librosa.feature.mfcc(y, fs)\n",
    "                \n",
    "        db.execute('''INSERT INTO features VALUES\n",
    "         (?,?,?,?,?,?,?,?,?)''', \n",
    "            (wav[:-4], \n",
    "            str(wav_folder), \n",
    "            meta['gender'] == 'female', \n",
    "            meta.get('age range', ''), \n",
    "            meta.get('language', ''), \n",
    "            meta.get('pronunciation dialect',''),\n",
    "            bytes(memoryview(mfcc)),\n",
    "            mfcc.shape[0],\n",
    "            mfcc.shape[1]))\n",
    "        \n",
    "        #break\n",
    "    conn.commit()\n",
    "\n",
    "    #db.execute('''SELECT * FROM features''')\n",
    "    #res = db.fetchall()\n",
    "    #print(res)\n",
    "    #mfcc2 = numpy.frombuffer(res[0][6])\n",
    "    #mfcc2 = numpy.reshape(mfcc2,(res[0][7], res[0][8]))\n",
    "    #librosa.display.specshow(mfcc2, sr=16000, x_axis='time')\n",
    "    #break\n",
    "\n",
    "conn.close()\n",
    "print(datetime.datetime.now())"
   ]
  },
  {
   "cell_type": "code",
   "execution_count": null,
   "metadata": {},
   "outputs": [],
   "source": [
    "## remember taht you might have to transpose mfcc to train!"
   ]
  },
  {
   "cell_type": "code",
   "execution_count": 44,
   "metadata": {},
   "outputs": [
    {
     "data": {
      "text/plain": [
       "<matplotlib.axes._subplots.AxesSubplot at 0x7f6254dd7ac8>"
      ]
     },
     "execution_count": 44,
     "metadata": {},
     "output_type": "execute_result"
    },
    {
     "data": {
      "image/png": "[encoded data removed]",
      "text/plain": [
       "<Figure size 432x288 with 1 Axes>"
      ]
     },
     "metadata": {
      "needs_background": "light"
     },
     "output_type": "display_data"
    }
   ],
   "source": [
    "## Possibly rewisit narrower frames:\n",
    "spec = librosa.feature.melspectrogram(y=y, sr=fs, S=None, n_fft=400, hop_length=160, power=2.0)\n",
    "mfcc1 = librosa.feature.mfcc(y, fs, S=numpy.log(spec))\n",
    "\n",
    "librosa.display.specshow(mfcc1, sr=fs, x_axis='time', hop_length=160)\n",
    "librosa.display.specshow(mfcc2, sr=fs, x_axis='time')\n",
    "\n",
    "#IPython.display.Audio(y, rate=fs)"
   ]
  }
 ],
 "metadata": {
  "kernelspec": {
   "display_name": "Python 3",
   "language": "python",
   "name": "python3"
  },
  "language_info": {
   "codemirror_mode": {
    "name": "ipython",
    "version": 3
   },
   "file_extension": ".py",
   "mimetype": "text/x-python",
   "name": "python",
   "nbconvert_exporter": "python",
   "pygments_lexer": "ipython3",
   "version": "3.6.7"
  }
 },
 "nbformat": 4,
 "nbformat_minor": 2
}
