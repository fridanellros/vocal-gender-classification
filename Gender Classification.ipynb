{
 "cells": [
  {
   "cell_type": "markdown",
   "metadata": {},
   "source": [
    "# Gender Classificaton\n"
   ]
  },
  {
   "cell_type": "markdown",
   "metadata": {},
   "source": [
    "## Imports"
   ]
  },
  {
   "cell_type": "code",
   "execution_count": 56,
   "metadata": {},
   "outputs": [],
   "source": [
    "import os\n",
    "import sys\n",
    "from scrape import get_remote_tgz_files, download_extract_files\n",
    "from parse import paths, parse_readme\n",
    "from pathlib import Path\n",
    "import sqlite3\n",
    "import librosa\n",
    "import librosa.display\n",
    "import IPython.display\n",
    "import numpy as np\n",
    "from dbhelpers import select\n",
    "from sklearn import preprocessing"
   ]
  },
  {
   "cell_type": "markdown",
   "metadata": {},
   "source": [
    "## Input variables"
   ]
  },
  {
   "cell_type": "code",
   "execution_count": 2,
   "metadata": {},
   "outputs": [],
   "source": [
    "SOURCE_URL = '''http://www.repository.voxforge1.org/downloads/SpeechCorpus/Trunk/Audio/Main/16kHz_16bit/'''\n",
    "DATA_DIR = '''data'''\n",
    "DB = '''genderclass.db'''"
   ]
  },
  {
   "cell_type": "markdown",
   "metadata": {},
   "source": [
    "## Scrape data\n",
    "Only files not already downloaded and extracted will be fetched."
   ]
  },
  {
   "cell_type": "code",
   "execution_count": 3,
   "metadata": {},
   "outputs": [],
   "source": [
    "data_folder = Path(DATA_DIR)\n",
    "urls = get_remote_tgz_files(SOURCE_URL)\n",
    "download_extract_files(urls, data_folder)"
   ]
  },
  {
   "cell_type": "markdown",
   "metadata": {},
   "source": [
    "## Create DB to hold features"
   ]
  },
  {
   "cell_type": "code",
   "execution_count": 4,
   "metadata": {},
   "outputs": [],
   "source": [
    "conn = sqlite3.connect(DB)\n",
    "db = conn.cursor()\n",
    "db.execute('''DROP TABLE IF EXISTS features''')\n",
    "db.execute('''CREATE TABLE features\n",
    "                     (file text, \n",
    "                      path text, \n",
    "                      female integer, \n",
    "                      age text, \n",
    "                      language text, \n",
    "                      dialect text,\n",
    "                      cepstrum blob,\n",
    "                      n_mfcc integer,\n",
    "                      n_frames integer)''')\n",
    "conn.commit()\n",
    "conn.close()"
   ]
  },
  {
   "cell_type": "markdown",
   "metadata": {},
   "source": [
    "## Extract features\n",
    "Silence trimmed at beginning and end of each file.\n",
    "\n",
    "MFCC extracted (with default librosa settings).\n",
    "\n",
    "Save into database.\n",
    "\n",
    "(skipped 127 records due to lack of parsable readme or wav-folder, takes about 20 min to run)"
   ]
  },
  {
   "cell_type": "code",
   "execution_count": 5,
   "metadata": {},
   "outputs": [
    {
     "name": "stdout",
     "output_type": "stream",
     "text": [
      "2019-03-25 21:43:11.750068\n",
      "2019-03-25 22:04:53.244463\n",
      "127\n"
     ]
    }
   ],
   "source": [
    "import datetime\n",
    "print(datetime.datetime.now())\n",
    "\n",
    "data_folder = Path(DATA_DIR)\n",
    "conn = sqlite3.connect(DB)\n",
    "db = conn.cursor()\n",
    "samples = os.listdir(data_folder)\n",
    "\n",
    "skipped = []\n",
    "for sample in samples:\n",
    "    (wav_folder, readme_path) = paths(data_folder, sample)\n",
    "\n",
    "    if(wav_folder is None or readme_path is None):\n",
    "        skipped.append(wav_folder)\n",
    "        continue;\n",
    "\n",
    "    meta = parse_readme(readme_path)\n",
    "    if(not 'gender' in meta):\n",
    "        skipped.append(wav_folder)\n",
    "        continue;\n",
    "    try:\n",
    "        wavs = os.listdir(wav_folder)\n",
    "        for wav in wavs:\n",
    "            y, fs = librosa.load(wav_folder / wav, sr=None)\n",
    "            y, idx = librosa.effects.trim(y)\n",
    "            mfcc = librosa.feature.mfcc(y, fs)\n",
    "\n",
    "            db.execute('''INSERT INTO features VALUES\n",
    "             (?,?,?,?,?,?,?,?,?)''', \n",
    "                (wav[:-4], \n",
    "                str(wav_folder), \n",
    "                meta['gender'] == 'female', \n",
    "                meta.get('age range', ''), \n",
    "                meta.get('language', ''), \n",
    "                meta.get('pronunciation dialect',''),\n",
    "                bytes(memoryview(mfcc)),\n",
    "                mfcc.shape[0],\n",
    "                mfcc.shape[1]))\n",
    "\n",
    "        conn.commit()\n",
    "    except Exception as e:\n",
    "        print(wav_folder)\n",
    "        print(\"type error: \" + str(e))\n",
    "        print(traceback.format_exc())\n",
    "\n",
    "conn.close()\n",
    "print(datetime.datetime.now())\n",
    "print(len(skipped))"
   ]
  },
  {
   "cell_type": "markdown",
   "metadata": {},
   "source": [
    "## Split into data sets\n",
    "Known problem: Will not return same data set every time since sqlite does not support seeded random. Should be done in python instead.\n",
    "\n",
    "Trade off: unbalanced data set with most subjects having 10 files, but there are those with a lot more (max 530). Only 430 females and over 5000 males. Optimally would be good if not same subject was present in training and test set, and if subjects were sampled to an equal representation, but this will have to do for now! (target has been equal sampling of male/female). \n",
    "\n",
    "Could create validation data set by same (improved) method if required."
   ]
  },
  {
   "cell_type": "code",
   "execution_count": 52,
   "metadata": {},
   "outputs": [],
   "source": [
    "conn = sqlite3.connect(DB)\n",
    "db = conn.cursor()\n",
    "females = select('''SELECT * FROM features WHERE female == 1 ORDER BY RANDOM()''', db)\n",
    "males = select('''SELECT * FROM features WHERE female == 0 ORDER BY RANDOM() LIMIT {}'''.format(len(females)), db)\n",
    "\n",
    "conn.commit()\n",
    "conn.close()\n",
    "\n",
    "l = int(len(females) / 2)\n",
    "\n",
    "train_fem = females[0:l] \n",
    "test_fem = females[l+1:2*l] \n",
    "train_mal = males[0:l]\n",
    "test_mal = males[l+1:2*l]"
   ]
  },
  {
   "cell_type": "markdown",
   "metadata": {},
   "source": [
    "Also, clips are not the same length so a fixed number of random frames are selected per clip."
   ]
  },
  {
   "cell_type": "code",
   "execution_count": 69,
   "metadata": {},
   "outputs": [
    {
     "name": "stdout",
     "output_type": "stream",
     "text": [
      "[ 1  2  3  4  5  6  7  8  9 10 11 12 13 14 15 16 17 18 19]\n",
      "[[ 99  91  32  76 105  16  87  78  43  51  74 110  44  26  17  55  59  38\n",
      "   75  37   3  33  27 113   0]]\n",
      "[[-8.60042089e-03  2.84286629e+00  2.16576692e+00  2.91479688e+00\n",
      "   1.93330353e+00  1.78467435e+00  2.06177452e+00  2.73382681e+00\n",
      "   5.69522210e-01  1.58614436e+00  2.51166528e+00  2.26736594e+00\n",
      "   8.91101645e-01  2.93814112e+00  1.44141537e+00  2.32882984e+00\n",
      "   1.97598767e+00  1.81793325e+00  2.72225100e+00  2.69187637e+00\n",
      "   2.45152501e-01  2.66240742e+00  2.76943401e+00  7.75363196e-01\n",
      "   8.71286352e-01]\n",
      " [ 1.88463546e-01 -1.82672304e+00  1.16282732e-01 -4.70045515e-01\n",
      "  -4.28173495e-01  3.12656363e-01 -2.64784488e-01 -3.53314225e-01\n",
      "   3.24827112e-01  2.17953564e-01 -1.86445276e-01  6.10978056e-01\n",
      "   1.01835077e+00 -1.89171247e+00  7.05080293e-01 -4.40772740e-01\n",
      "   4.85999248e-01 -2.32159320e-01 -3.48121179e-01 -8.77322617e-01\n",
      "   2.08632020e-01 -5.39155984e-01 -1.45963180e+00  5.57682961e-01\n",
      "   4.75121746e-01]\n",
      " [ 7.38645813e-01  1.75476168e-02  1.04880787e+00  1.64553204e-01\n",
      "   1.44631927e+00  1.33178047e+00  1.38790749e+00  2.39647194e-01\n",
      "   8.17052123e-01  6.31529243e-01  1.76094681e-01 -8.72930086e-02\n",
      "   1.39753423e+00  2.85251283e-01  1.55010246e+00  1.01622242e+00\n",
      "   7.13089742e-01  5.96981396e-01  1.51431559e-01  7.00460700e-01\n",
      "   5.25488693e-01  1.27895216e+00  6.35540366e-01  3.53939372e-01\n",
      "   3.57638150e-01]\n",
      " [-3.35525438e-01 -4.03055713e-01 -1.85345717e-01 -1.29713730e+00\n",
      "  -9.85529088e-01 -5.99120404e-01 -6.55631805e-02 -1.21482830e+00\n",
      "  -2.23810583e-01  2.84876223e-01 -6.43164180e-01 -2.91412264e-01\n",
      "  -4.56192828e-01 -3.30852615e-01 -7.10219332e-01 -4.77079642e-01\n",
      "  -4.55895309e-01 -3.99816101e-01 -1.12428271e+00 -6.84485017e-01\n",
      "  -2.26816280e-01 -6.28480296e-01 -3.31688382e-01  2.39228726e-01\n",
      "   2.25705463e-01]\n",
      " [ 5.99506907e-01  2.47982601e-01 -3.79292059e-02 -1.04216214e-01\n",
      "  -2.67556290e-01  1.21692378e-01  2.03807441e-01 -1.15108992e-01\n",
      "   1.83587654e-01  2.81058369e-02  1.93007013e-01  2.01367855e-01\n",
      "  -1.40760437e-03  2.48779559e-02  1.65176553e-01 -1.02808000e-01\n",
      "   3.80399033e-03 -1.94720104e-01 -2.38445248e-02 -6.23001570e-02\n",
      "   4.17817974e-01 -1.44054148e-01  1.39743410e-01  1.97950307e-01\n",
      "   2.07188376e-01]\n",
      " [-3.61470229e-01  2.47392028e-01 -2.69533283e-01  4.45464575e-01\n",
      "  -1.08012898e-01  8.41713705e-02 -5.57334511e-01  5.13625370e-01\n",
      "  -3.91902637e-02  4.23986980e-02  2.74936763e-01  1.49794368e-01\n",
      "  -2.48688260e-01 -1.77415945e-01  2.90833022e-02 -4.07652357e-01\n",
      "  -7.59640802e-01 -5.42985043e-01  4.66279954e-01 -2.96683897e-01\n",
      "  -1.37357907e-01 -5.75561804e-01 -2.26138412e-01  1.85570572e-01\n",
      "   1.82409799e-01]\n",
      " [ 8.73322009e-01  2.62072126e-02 -1.97884847e-02 -3.97476782e-01\n",
      "  -2.95221633e-02  1.53560991e-01 -1.07433004e-01 -3.99090330e-01\n",
      "   3.02442307e-01 -4.09620002e-02 -4.16292159e-01 -2.38494480e-01\n",
      "   3.81653087e-02  3.06231614e-03 -4.35680750e-02 -1.07628962e-02\n",
      "   2.36704712e-01  4.39627282e-01 -2.83939438e-01  3.79924562e-01\n",
      "   6.40629906e-01  1.94249284e-01 -1.10050220e-01  1.78148118e-01\n",
      "   1.58636618e-01]\n",
      " [-1.58312643e-01 -5.76425809e-02  1.09673707e-01  2.74400249e-01\n",
      "  -1.76264998e-01 -2.26067946e-01 -3.23421145e-01  3.70237688e-01\n",
      "  -1.69136010e-01  1.38136249e-01  4.16248753e-02 -1.67735939e-02\n",
      "  -2.48836361e-01  1.81831255e-01 -2.45168477e-01  2.41524371e-01\n",
      "  -2.96765513e-01  1.38441485e-01  1.96803117e-01  1.20830114e-01\n",
      "  -1.64404544e-02  7.62434570e-02  1.50833102e-02  1.70578993e-01\n",
      "   2.13702849e-01]\n",
      " [ 5.60286324e-01  4.88736515e-01 -8.29297651e-03  5.38538592e-02\n",
      "   4.50253769e-01  1.09181052e-01  2.27810759e-01  1.73665087e-01\n",
      "   2.63141911e-01  4.16067995e-02  2.31256565e-01 -4.46833249e-02\n",
      "   2.46930515e-01  4.35820521e-01  1.99044677e-01  9.15583996e-02\n",
      "   2.47426411e-01  6.61921776e-01  8.18178009e-02  2.38619615e-01\n",
      "   4.23965238e-01  1.20372253e-01  3.00527035e-01  1.61179220e-01\n",
      "   1.79087855e-01]\n",
      " [-2.89579828e-01 -2.82587063e-01 -1.50137862e-01 -1.63142781e-01\n",
      "  -1.81351252e-01 -8.79916952e-02 -2.80381331e-01 -2.75094328e-01\n",
      "  -1.76315682e-02 -1.81777721e-01 -7.52030504e-02 -7.81147396e-02\n",
      "  -3.48671751e-01 -1.47064178e-01 -2.39910488e-01 -3.76095986e-01\n",
      "  -4.25791140e-01 -1.54756686e-02 -1.21332869e-01 -2.98165894e-02\n",
      "  -3.08334542e-01 -2.11219268e-01 -2.41773365e-01  1.47422348e-01\n",
      "   1.33166732e-01]\n",
      " [ 5.49578313e-01  3.07164835e-02  1.08944253e-01  3.59932693e-01\n",
      "   3.01827656e-01  1.07580126e-01  9.76710332e-02  3.05144585e-01\n",
      "   4.30540144e-01  1.19114782e-01  2.79515759e-01  1.73291880e-01\n",
      "   2.75270054e-01  1.05354890e-01  1.55709569e-01  1.60452259e-01\n",
      "   4.60367410e-01  1.94527317e-01  3.49669266e-01 -3.03552528e-02\n",
      "   3.74859904e-01  9.38016219e-02 -2.42266853e-02  1.28935129e-01\n",
      "   1.78785797e-01]\n",
      " [ 3.45693418e-02  2.26908927e-01  1.20294610e-01  7.23908063e-02\n",
      "   1.60328219e-01 -7.53858334e-02  5.17756781e-02  2.33366683e-01\n",
      "   1.70111721e-01  2.00254928e-01  9.25559851e-02  1.38022820e-01\n",
      "   1.82640594e-01 -1.07271896e-01 -2.93299036e-02  2.04040580e-01\n",
      "   1.30654847e-01  1.06800462e-01  8.90964295e-02  2.62535164e-01\n",
      "   5.49482092e-02  7.97973754e-02 -1.55660245e-01  1.13601778e-01\n",
      "   1.39736796e-01]\n",
      " [ 4.63494530e-01  1.32568774e-01  1.10933939e-01  4.82694573e-01\n",
      "   5.51993661e-01  1.37214059e-01  3.60352833e-01  3.64704303e-01\n",
      "   3.02900332e-01  7.84625547e-02  3.02437964e-01  1.78783538e-01\n",
      "   1.59507405e-01  5.48266565e-01  5.29243292e-02  4.26883591e-01\n",
      "   3.06829384e-01 -1.36335270e-02  4.11162202e-01 -1.70687243e-01\n",
      "   4.11512202e-01  9.83749745e-02  4.57087664e-01  1.16007073e-01\n",
      "   7.97889759e-02]\n",
      " [-1.11681050e-01  1.32141348e-01 -6.20515034e-02 -5.43983398e-02\n",
      "   1.00593522e-01  1.12089851e-01 -1.48233468e-01  1.38448918e-01\n",
      "   1.75108559e-01  6.20628660e-02 -6.47007636e-03  1.72614927e-01\n",
      "  -2.94644697e-03 -1.07401068e-01  1.57861391e-01 -4.95372613e-02\n",
      "  -7.03240251e-02  1.87945196e-01 -1.07988340e-01  1.61178453e-01\n",
      "   1.03648065e-01 -1.32419176e-01 -3.46218620e-02  1.39280867e-01\n",
      "   1.52599287e-01]\n",
      " [ 2.32514978e-01  3.34127867e-02  2.22386824e-01  8.58471141e-02\n",
      "   3.39309038e-02 -9.86092866e-02  2.60752718e-01 -7.10009352e-02\n",
      "   1.47605639e-01  1.77421342e-01  1.45505606e-01  4.85821991e-02\n",
      "   1.81628615e-01  1.06082668e-02 -1.39628691e-01  3.63564502e-01\n",
      "   1.98887904e-01  1.98288475e-01  1.09559416e-01  5.88288099e-02\n",
      "   3.65649203e-01  3.22036997e-01 -7.65292863e-02  1.64551335e-01\n",
      "   1.64708455e-01]\n",
      " [-2.64451230e-02  1.42643845e-01 -3.60112553e-02  9.27659726e-02\n",
      "   1.54652391e-01  9.10908924e-02  8.71722437e-02  3.73205173e-02\n",
      "   1.58914589e-01 -1.18845222e-01  6.05563338e-02  1.77386676e-01\n",
      "   7.75059928e-02  1.53080070e-01  2.05820106e-01  1.19167976e-02\n",
      "   1.84350222e-02  2.70914770e-02  1.09798661e-01  7.96278352e-02\n",
      "   5.30015710e-03 -2.53520712e-01  3.07936185e-01  1.73021985e-01\n",
      "   1.18595099e-01]\n",
      " [ 2.91650520e-01  2.83330196e-01  2.17251261e-02 -2.07383328e-02\n",
      "  -1.95457524e-02  2.17862920e-01  2.71433912e-01  7.60866062e-02\n",
      "   3.33212310e-01  1.92901686e-01  9.23196927e-02  1.61791873e-01\n",
      "   2.37937708e-01  2.41972283e-01  7.02412794e-02  6.73095238e-02\n",
      "   1.91524340e-01  2.75214099e-01  3.14821791e-02  8.51053690e-02\n",
      "   2.98529673e-01  9.86541498e-02  2.73070942e-01  1.69870436e-01\n",
      "   1.59220720e-01]\n",
      " [ 4.05886323e-01  1.40964470e-01  2.68158749e-01  3.70090765e-01\n",
      "   3.50879001e-01  2.47080998e-01  1.99331357e-01  2.71142840e-01\n",
      "   2.73579874e-01  5.00812618e-01  2.57382643e-01  1.00568089e-01\n",
      "   2.39451827e-01  2.01473558e-01  3.25080281e-01  3.58096349e-01\n",
      "   4.39627260e-01  4.93916405e-01  3.13393612e-01  4.53681420e-01\n",
      "   3.58039390e-01  2.50651905e-01  3.96824753e-01  1.68450015e-01\n",
      "   1.69505123e-01]\n",
      " [ 4.29376464e-01  3.41914385e-01  1.97388421e-01  1.16716266e-01\n",
      "   1.83368677e-01  5.67445618e-02  1.12805513e-01  1.00638146e-01\n",
      "   2.39910268e-01  1.00650564e-01  2.10331595e-01  1.26942900e-01\n",
      "   2.76808714e-01  2.40768681e-01  1.04538843e-01  8.88610050e-02\n",
      "   2.74149979e-01  9.26365594e-02  1.94004535e-01  1.36110306e-01\n",
      "   4.72792137e-01  3.30325559e-01  3.27972438e-01  1.62707557e-01\n",
      "   1.28067381e-01]]\n"
     ]
    }
   ],
   "source": [
    "n_frames = 25\n",
    "\n",
    "for s in train_fem:\n",
    "    mfcc = np.frombuffer(s[6])\n",
    "    mfcc = np.reshape(mfcc,(s[7], s[8]))\n",
    "    mfcc = preprocessing.scale(mfcc)\n",
    "    \n",
    "    row_ix = np.arange(mfcc.shape[0])\n",
    "    row_ix = row_ix[1:mfcc.shape[0]]\n",
    "    print(row_ix)\n",
    "    \n",
    "    col_ix = np.arange(mfcc.shape[1])\n",
    "    col_ix = np.random.choice(col_ix, (1, n_frames), replace=False)\n",
    "    print(col_ix)\n",
    "    print(mfcc[np.ix_(row_ix, col_ix[0])])\n",
    "    break;\n",
    "    "
   ]
  },
  {
   "cell_type": "code",
   "execution_count": null,
   "metadata": {},
   "outputs": [],
   "source": [
    "## remember taht you might have to transpose mfcc to train!"
   ]
  },
  {
   "cell_type": "code",
   "execution_count": 7,
   "metadata": {},
   "outputs": [],
   "source": [
    "## Possibly rewisit narrower frames:\n",
    "#spec = librosa.feature.melspectrogram(y=y, sr=fs, S=None, n_fft=400, hop_length=160, power=2.0)\n",
    "#mfcc1 = librosa.feature.mfcc(y, fs, S=numpy.log(spec))\n",
    "\n",
    "#librosa.display.specshow(mfcc1, sr=fs, x_axis='time', hop_length=160)\n",
    "#librosa.display.specshow(mfcc2, sr=fs, x_axis='time')\n",
    "\n",
    "#IPython.display.Audio(y, rate=fs)\n",
    "\n",
    "\n",
    "\n",
    "\n",
    "#db.execute('''SELECT * FROM features''')\n",
    "#res = db.fetchall()\n",
    "#print(res)\n",
    "#mfcc2 = numpy.frombuffer(res[0][6])\n",
    "#mfcc2 = numpy.reshape(mfcc2,(res[0][7], res[0][8]))\n",
    "#librosa.display.specshow(mfcc2, sr=16000, x_axis='time')\n",
    "#break"
   ]
  },
  {
   "cell_type": "code",
   "execution_count": null,
   "metadata": {},
   "outputs": [],
   "source": []
  },
  {
   "cell_type": "markdown",
   "metadata": {},
   "source": [
    "## Additional Improvements\n",
    "\n",
    "ML:\n",
    "- Make use of other features - potentially other classification methods\n",
    "- Narrower frames of e.g. 25 ms\n",
    "#spec = librosa.feature.melspectrogram(y=y, sr=fs, S=None, n_fft=400, hop_length=160, power=2.0)\n",
    "#mfcc1 = librosa.feature.mfcc(y, fs, S=numpy.log(spec))\n",
    "\n",
    "Coding\n",
    "- Error and type checks in functions, can really only be used in known context"
   ]
  }
 ],
 "metadata": {
  "kernelspec": {
   "display_name": "Python 3",
   "language": "python",
   "name": "python3"
  },
  "language_info": {
   "codemirror_mode": {
    "name": "ipython",
    "version": 3
   },
   "file_extension": ".py",
   "mimetype": "text/x-python",
   "name": "python",
   "nbconvert_exporter": "python",
   "pygments_lexer": "ipython3",
   "version": "3.6.7"
  }
 },
 "nbformat": 4,
 "nbformat_minor": 2
}
