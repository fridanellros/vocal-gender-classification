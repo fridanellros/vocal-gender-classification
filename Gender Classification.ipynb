{
 "cells": [
  {
   "cell_type": "markdown",
   "metadata": {},
   "source": [
    "# Gender Classificaton\n"
   ]
  },
  {
   "cell_type": "markdown",
   "metadata": {},
   "source": [
    "## Imports"
   ]
  },
  {
   "cell_type": "code",
   "execution_count": 1,
   "metadata": {},
   "outputs": [],
   "source": [
    "import os\n",
    "import sys\n",
    "from scrape import get_remote_tgz_files, download_extract_files\n",
    "from parse import paths, parse_readme\n",
    "from pathlib import Path\n",
    "import sqlite3\n",
    "import librosa\n",
    "import librosa.display\n",
    "import IPython.display\n",
    "import numpy"
   ]
  },
  {
   "cell_type": "markdown",
   "metadata": {},
   "source": [
    "## Input variables"
   ]
  },
  {
   "cell_type": "code",
   "execution_count": 2,
   "metadata": {},
   "outputs": [],
   "source": [
    "SOURCE_URL = '''http://www.repository.voxforge1.org/downloads/SpeechCorpus/Trunk/Audio/Main/16kHz_16bit/'''\n",
    "DATA_DIR = '''data'''\n",
    "DB = '''genderclass.db'''"
   ]
  },
  {
   "cell_type": "markdown",
   "metadata": {},
   "source": [
    "## Scrape data\n",
    "Only files not already downloaded and extracted will be fetched."
   ]
  },
  {
   "cell_type": "code",
   "execution_count": 3,
   "metadata": {},
   "outputs": [],
   "source": [
    "data_folder = Path(DATA_DIR)\n",
    "urls = get_remote_tgz_files(SOURCE_URL)\n",
    "download_extract_files(urls, data_folder)"
   ]
  },
  {
   "cell_type": "markdown",
   "metadata": {},
   "source": [
    "## Create DB to hold features"
   ]
  },
  {
   "cell_type": "code",
   "execution_count": null,
   "metadata": {},
   "outputs": [],
   "source": [
    "conn = sqlite3.connect(DB)\n",
    "db = conn.cursor()\n",
    "db.execute('''DROP TABLE IF EXISTS features''')\n",
    "db.execute('''CREATE TABLE features\n",
    "                     (file text, \n",
    "                      path text, \n",
    "                      female integer, \n",
    "                      age text, \n",
    "                      language text, \n",
    "                      dialect text,\n",
    "                      cepstrum blob,\n",
    "                      n_mfcc integer,\n",
    "                      n_frames integer)''')\n",
    "conn.commit()\n",
    "conn.close()"
   ]
  },
  {
   "cell_type": "markdown",
   "metadata": {},
   "source": [
    "## Extract features\n",
    "Silence trimmed at beginning and end of each file.\n",
    "\n",
    "MFCC extracted (with default librosa settings).\n",
    "\n",
    "Save into database."
   ]
  },
  {
   "cell_type": "code",
   "execution_count": null,
   "metadata": {},
   "outputs": [
    {
     "name": "stdout",
     "output_type": "stream",
     "text": [
      "2019-03-25 21:43:11.750068\n"
     ]
    }
   ],
   "source": [
    "import datetime\n",
    "print(datetime.datetime.now())\n",
    "\n",
    "data_folder = Path(DATA_DIR)\n",
    "conn = sqlite3.connect(DB)\n",
    "db = conn.cursor()\n",
    "samples = os.listdir(data_folder)\n",
    "\n",
    "skipped = []\n",
    "for sample in samples:\n",
    "    (wav_folder, readme_path) = paths(data_folder, sample)\n",
    "\n",
    "    if(wav_folder is None or readme_path is None):\n",
    "        skipped.append(wav_folder)\n",
    "        continue;\n",
    "\n",
    "    meta = parse_readme(readme_path)\n",
    "    if(not 'gender' in meta):\n",
    "        skipped.append(wav_folder)\n",
    "        continue;\n",
    "    try:\n",
    "        wavs = os.listdir(wav_folder)\n",
    "        for wav in wavs:\n",
    "            y, fs = librosa.load(wav_folder / wav, sr=None)\n",
    "            y, idx = librosa.effects.trim(y)\n",
    "            mfcc = librosa.feature.mfcc(y, fs)\n",
    "\n",
    "            db.execute('''INSERT INTO features VALUES\n",
    "             (?,?,?,?,?,?,?,?,?)''', \n",
    "                (wav[:-4], \n",
    "                str(wav_folder), \n",
    "                meta['gender'] == 'female', \n",
    "                meta.get('age range', ''), \n",
    "                meta.get('language', ''), \n",
    "                meta.get('pronunciation dialect',''),\n",
    "                bytes(memoryview(mfcc)),\n",
    "                mfcc.shape[0],\n",
    "                mfcc.shape[1]))\n",
    "\n",
    "        conn.commit()\n",
    "    except Exception as e:\n",
    "        print(wav_folder)\n",
    "        print(\"type error: \" + str(e))\n",
    "        print(traceback.format_exc())\n",
    "\n",
    "\n",
    "\n",
    "conn.close()\n",
    "print(datetime.datetime.now())\n",
    "print(len(skipped))"
   ]
  },
  {
   "cell_type": "code",
   "execution_count": null,
   "metadata": {},
   "outputs": [],
   "source": [
    "## remember taht you might have to transpose mfcc to train!"
   ]
  },
  {
   "cell_type": "code",
   "execution_count": null,
   "metadata": {},
   "outputs": [],
   "source": [
    "## Possibly rewisit narrower frames:\n",
    "#spec = librosa.feature.melspectrogram(y=y, sr=fs, S=None, n_fft=400, hop_length=160, power=2.0)\n",
    "#mfcc1 = librosa.feature.mfcc(y, fs, S=numpy.log(spec))\n",
    "\n",
    "#librosa.display.specshow(mfcc1, sr=fs, x_axis='time', hop_length=160)\n",
    "#librosa.display.specshow(mfcc2, sr=fs, x_axis='time')\n",
    "\n",
    "#IPython.display.Audio(y, rate=fs)\n",
    "\n",
    "\n",
    "\n",
    "\n",
    "#db.execute('''SELECT * FROM features''')\n",
    "#res = db.fetchall()\n",
    "#print(res)\n",
    "#mfcc2 = numpy.frombuffer(res[0][6])\n",
    "#mfcc2 = numpy.reshape(mfcc2,(res[0][7], res[0][8]))\n",
    "#librosa.display.specshow(mfcc2, sr=16000, x_axis='time')\n",
    "#break"
   ]
  },
  {
   "cell_type": "code",
   "execution_count": null,
   "metadata": {},
   "outputs": [],
   "source": []
  },
  {
   "cell_type": "code",
   "execution_count": null,
   "metadata": {},
   "outputs": [],
   "source": []
  }
 ],
 "metadata": {
  "kernelspec": {
   "display_name": "Python 3",
   "language": "python",
   "name": "python3"
  },
  "language_info": {
   "codemirror_mode": {
    "name": "ipython",
    "version": 3
   },
   "file_extension": ".py",
   "mimetype": "text/x-python",
   "name": "python",
   "nbconvert_exporter": "python",
   "pygments_lexer": "ipython3",
   "version": "3.6.7"
  }
 },
 "nbformat": 4,
 "nbformat_minor": 2
}
